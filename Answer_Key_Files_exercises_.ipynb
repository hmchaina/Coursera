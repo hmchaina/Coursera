{
  "cells": [
    {
      "cell_type": "markdown",
      "metadata": {
        "id": "view-in-github",
        "colab_type": "text"
      },
      "source": [
        "<a href=\"https://colab.research.google.com/github/hmchaina/Coursera/blob/main/Answer_Key_Files_exercises_.ipynb\" target=\"_parent\"><img src=\"https://colab.research.google.com/assets/colab-badge.svg\" alt=\"Open In Colab\"/></a>"
      ]
    },
    {
      "cell_type": "markdown",
      "metadata": {
        "id": "FPq_pkDJ_oHw"
      },
      "source": [
        "# Python Files exercises "
      ]
    },
    {
      "cell_type": "code",
      "execution_count": null,
      "metadata": {
        "id": "cMtlQmXW_oH2",
        "outputId": "1f1bd66f-29b9-45e1-dd5e-8871ab601c10"
      },
      "outputs": [
        {
          "data": {
            "text/plain": [
              "\"In this section, we will use Python's built-in open function to create a file and obtain the data from a txt file.\\nWe will use the open function to get a file object.\\nWe can apply a method to that object to read data from the file. \\nThe first argument is the file path, the second parameter is the mode.\""
            ]
          },
          "execution_count": 36,
          "metadata": {},
          "output_type": "execute_result"
        }
      ],
      "source": [
        "#Q1 Create a text file called mytxt.txt\n",
        "# Save the following content in the text file:\n",
        "# \"In this section, we will use Python's built-in open function to create a file,\n",
        "# and obtain the data from a \"txt\" file.\n",
        "# We will use Python's open function to get a file object. \n",
        "# We can apply a method to that object to read data from the file.  \n",
        "# The first argument is the file path, the second parameter is the mode.\"\n",
        "\n",
        "txt1= \"In this section, we will use Python's built-in open function to create a file and obtain the data from a txt file.\\nWe will use the open function to get a file object.\\nWe can apply a method to that object to read data from the file. \\nThe first argument is the file path, the second parameter is the mode.\"\n",
        "mytxt=open('mytxt.txt','w+')\n",
        "mytxt.write(txt1)\n",
        "mytxt.seek(0)\n",
        "mytxt.read()"
      ]
    },
    {
      "cell_type": "code",
      "execution_count": null,
      "metadata": {
        "id": "5ujPm1J7_oH5",
        "outputId": "04ef24c7-c09f-46e1-9039-7bf9fba87e1f"
      },
      "outputs": [
        {
          "name": "stdout",
          "output_type": "stream",
          "text": [
            "In this section, we will use Python's built-in open function to create a file and obtain the data from a txt file.\n",
            "We will use the open function to get a file object.\n",
            "We can apply a method to that object to read data from the file. \n",
            "The first argument is the file path, the second parameter is the mode.\n"
          ]
        }
      ],
      "source": [
        "#Q1 Write a Python program to read the entire mytxt file\n",
        "file = open(\"mytxt.txt\", \"r\")\n",
        "print(file.read())\n",
        "file.close()"
      ]
    },
    {
      "cell_type": "code",
      "execution_count": null,
      "metadata": {
        "id": "kOxLjKCV_oH6",
        "outputId": "0a61ef3e-bcce-442b-8674-173d100c42e1"
      },
      "outputs": [
        {
          "name": "stdout",
          "output_type": "stream",
          "text": [
            "We will use the open function to get a file object.\n",
            "\n",
            "We can apply a method to that object to read data from the file. \n",
            "\n",
            "The first argument is the file path, the second parameter is the mode.\n"
          ]
        }
      ],
      "source": [
        "#Q2 Write a Python program to read last 3 lines of mytxt file\n",
        "with open(\"mytxt.txt\") as mytxt:\n",
        "    mytxt=mytxt.readlines()\n",
        "    lines=mytxt[-3:]\n",
        "    listToStr = '\\n'.join(map(str,lines))\n",
        "    print(listToStr)"
      ]
    },
    {
      "cell_type": "code",
      "execution_count": null,
      "metadata": {
        "id": "8EF_PqAd_oH7",
        "outputId": "4ffa69dc-627f-4089-f51f-023197bdcd46"
      },
      "outputs": [
        {
          "name": "stdout",
          "output_type": "stream",
          "text": [
            "We can apply a method to that object to read data from the file. \n",
            "\n",
            "The first argument is the file path, the second parameter is the mode.\n"
          ]
        }
      ],
      "source": [
        "#Q3 Write a Python program to read last n lines of mytxt file \n",
        "#[Hint: write a function]\n",
        "def read_last_n_lines(n):\n",
        "    with open(\"mytxt.txt\") as myfile:\n",
        "        lines = myfile.readlines()\n",
        "        last_lines =lines[-n:]\n",
        "        listToStr = '\\n'.join(map(str,last_lines))\n",
        "        return listToStr\n",
        "print(read_last_n_lines(2))"
      ]
    },
    {
      "cell_type": "code",
      "execution_count": null,
      "metadata": {
        "id": "HCJJtSck_oH8",
        "outputId": "b60a93ac-1b53-4910-ef3d-5edb0014c269"
      },
      "outputs": [
        {
          "name": "stdout",
          "output_type": "stream",
          "text": [
            "Number of lines: 4\n"
          ]
        }
      ],
      "source": [
        "#Q4 count the number of lines in mytxt file \n",
        "with open(\"mytxt.txt\") as myfile:\n",
        "    lines = myfile.readlines()\n",
        "    for i,j in enumerate(lines):\n",
        "        pass\n",
        "print(\"Number of lines:\",i+1)"
      ]
    },
    {
      "cell_type": "code",
      "execution_count": null,
      "metadata": {
        "id": "Cg7ZZaLQ_oH9"
      },
      "outputs": [],
      "source": [
        "#Q5 Write a Python program to generate 26 text files named A.txt, B.txt,...Z.txt\n",
        "import string,os\n",
        "for letter in string.ascii_uppercase:\n",
        "    open(letter + \".txt\", \"x\")\n",
        "    "
      ]
    },
    {
      "cell_type": "code",
      "execution_count": null,
      "metadata": {
        "id": "rTIhU1XE_oH9"
      },
      "outputs": [],
      "source": [
        "for letter in string.ascii_uppercase:\n",
        "    os.remove(letter + \".txt\")"
      ]
    },
    {
      "cell_type": "code",
      "execution_count": null,
      "metadata": {
        "id": "rSQEPvqT_oH-",
        "outputId": "06b98443-b630-420d-f157-dae09d60e467"
      },
      "outputs": [
        {
          "name": "stdout",
          "output_type": "stream",
          "text": [
            "In this section, we will use Python's built-in open function to create a file and obtain the data from a txt file.\n",
            "We will use the open function to get a file object.\n",
            "We can apply a method to that object to read data from the file. \n",
            "The first argument is the file path, the second parameter is the mode.\n",
            "End of file\n"
          ]
        }
      ],
      "source": [
        "#Q6 Write a Python program to append \"End of file\" to mytxt file and \n",
        "# display the text \n",
        "with open(\"mytxt.txt\",\"a\") as myfile:\n",
        "    myfile.write(\"\\nEnd of file\")\n",
        "with open(\"mytxt.txt\") as myfile:\n",
        "    a=myfile.read()\n",
        "    print(a)"
      ]
    },
    {
      "cell_type": "code",
      "execution_count": null,
      "metadata": {
        "id": "0n82Ro9s_oH_",
        "outputId": "9721e93e-970b-46f1-f5ff-8881fcc8384d"
      },
      "outputs": [
        {
          "name": "stdout",
          "output_type": "stream",
          "text": [
            "In this section, we will use Python's built-in open function to create a file and obtain the data from a txt file.We will use the open function to get a file object.We can apply a method to that object to read data from the file. The first argument is the file path, the second parameter is the mode.End of file\n"
          ]
        }
      ],
      "source": [
        "#Q7 Write a Python program to remove newline characters from mytxt file\n",
        "def remove_newline_Character(file):\n",
        "    myFile=open(file,'r')\n",
        "    text=myFile.read().replace('\\n','')\n",
        "    myFile.close()\n",
        "    return(text)\n",
        "\n",
        "print(remove_newline_Character(\"mytxt.txt\"))"
      ]
    },
    {
      "cell_type": "code",
      "execution_count": null,
      "metadata": {
        "id": "SrAB3-Yw_oIA",
        "outputId": "ed60fb0f-543a-4caf-f4d3-5d3c2a6e68b1"
      },
      "outputs": [
        {
          "data": {
            "text/plain": [
              "['parameter']"
            ]
          },
          "execution_count": 50,
          "metadata": {},
          "output_type": "execute_result"
        }
      ],
      "source": [
        "# Q8 Write a python program to find the longest word in mytxt file\n",
        "def LongestWord(file):\n",
        "    with open(file) as files:\n",
        "        words = files.read().split()\n",
        "    max_len = len(max(words, key=len))\n",
        "    return[word for word in words if len(word)==max_len]\n",
        "LongestWord(\"mytxt.txt\")"
      ]
    },
    {
      "cell_type": "code",
      "execution_count": null,
      "metadata": {
        "id": "UKLcGuIO_oIB",
        "outputId": "085fca0b-12ae-45a7-a0f7-68e6c6972f38"
      },
      "outputs": [
        {
          "name": "stdout",
          "output_type": "stream",
          "text": [
            "2\n"
          ]
        }
      ],
      "source": [
        "#Q9  Write a Python program to count the frequency \"We\" in mytxt file\n",
        "with open(\"mytxt.txt\") as myfile:\n",
        "    words=myfile.read().split()\n",
        "    a=words.count('We') #.just gives output for \"We\".doesn't include \"we\".\n",
        "    print(a)"
      ]
    },
    {
      "cell_type": "code",
      "execution_count": null,
      "metadata": {
        "id": "3RnbVOBi_oIB"
      },
      "outputs": [],
      "source": [
        "#Q10 Write a Python program to build a sign_Up and login forms for users.\n",
        "#Your program should validate/authenticate entered credentials for existing users \n",
        "#or create new accounts for new users\n",
        "#1 Create \"Credentials.txt\" file\n",
        "#2 Add the following information into your Credentials.txt file <Name, Password>\n",
        "    # Sarah,12ssr\n",
        "    # Lisa,pass\n",
        "    # Donna,D00N\n",
        "#3 Create login function that takes two inputs (name,password)\n",
        "    #3.1 Ask the user to enter their username and password\n",
        "    #3.2 search if the names exist in the Credentials.txt file\n",
        "        #3.2.1 if the name was found, check \n",
        "            #if the password is correct\n",
        "        #3.2.2 return \"Welcome <persons name> \n",
        "            #if the name and password were correct\"\n",
        "        #3.2.3 else return \"wrong name or password\"\n",
        "    #3.2 if the name doesn't exist return \"your name doesn't exist,\n",
        "        #please create a new account\"\n",
        "#4 Create sign_Up function that takes two inputs(newName,newPassword)\n",
        "    #Ask user to enter their name and password\n",
        "    #append the new information into the Credentials.txt file, \n",
        "        #follow the same format \"name,password\"\n",
        "#5 Test your program by logging in using the new account\n"
      ]
    }
  ],
  "metadata": {
    "kernelspec": {
      "display_name": "Python 3",
      "language": "python",
      "name": "python3"
    },
    "language_info": {
      "codemirror_mode": {
        "name": "ipython",
        "version": 3
      },
      "file_extension": ".py",
      "mimetype": "text/x-python",
      "name": "python",
      "nbconvert_exporter": "python",
      "pygments_lexer": "ipython3",
      "version": "3.8.5"
    },
    "colab": {
      "provenance": [],
      "include_colab_link": true
    }
  },
  "nbformat": 4,
  "nbformat_minor": 0
}