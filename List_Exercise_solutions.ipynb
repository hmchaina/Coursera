{
  "cells": [
    {
      "cell_type": "markdown",
      "metadata": {
        "id": "view-in-github",
        "colab_type": "text"
      },
      "source": [
        "<a href=\"https://colab.research.google.com/github/hmchaina/Coursera/blob/main/List_Exercise_solutions.ipynb\" target=\"_parent\"><img src=\"https://colab.research.google.com/assets/colab-badge.svg\" alt=\"Open In Colab\"/></a>"
      ]
    },
    {
      "cell_type": "code",
      "execution_count": null,
      "id": "c26f944f",
      "metadata": {
        "id": "c26f944f",
        "outputId": "d5a4ed75-51bc-497d-ca1e-555a697b9a24"
      },
      "outputs": [
        {
          "data": {
            "text/plain": [
              "('Abdul Wahid Khudayar',\n",
              " 'Addy Rose',\n",
              " 'Anuoluwapo Oluseyi',\n",
              " 'Aravindh Kuppusamy Haridoss',\n",
              " 'Carlo Halnin',\n",
              " 'Juned Chhiboo',\n",
              " 'Cici Ann Joji',\n",
              " 'DHRUVKUMAR PATEL',\n",
              " 'Erkan Kumesogut',\n",
              " 'Exaltacao Rodrigues',\n",
              " 'fatma tuncalan',\n",
              " 'harpreet kaur',\n",
              " 'Harun Omar-Godane',\n",
              " 'Hossain Ghahraloud',\n",
              " 'Jesso Thomas',\n",
              " 'Kamiar Mehmannavazan',\n",
              " 'Karthik Sai',\n",
              " 'Kwabena Gyasi-Boateng',\n",
              " 'L Reetika',\n",
              " 'mariya amtullah',\n",
              " 'Marwa Musa',\n",
              " 'Meelad Armani',\n",
              " 'Miguel Diaz',\n",
              " 'Mohammad Dabbour',\n",
              " 'Pouria Raziei',\n",
              " 'Reena Thakur',\n",
              " 'Robin Francis Thomas',\n",
              " 'Rohan Thomas',\n",
              " 'Ronit Soni',\n",
              " 'Sameeha Bala',\n",
              " 'Supriya Kanda',\n",
              " 'Weslie Chung',\n",
              " 'Ying Fei Li',\n",
              " 'Poojan Modi',\n",
              " 'Alexander Hailu',\n",
              " 'Ekaterina Shalygina',\n",
              " 'Nevin Tomy',\n",
              " 'Jason Huang',\n",
              " 'Anindita',\n",
              " 'Vrunda Patel',\n",
              " 'Sravan Pingali')"
            ]
          },
          "execution_count": 1,
          "metadata": {},
          "output_type": "execute_result"
        }
      ],
      "source": [
        "#Q1 Create a tuple with all participant names in the JDA program\n",
        "Tuple1 = (\"Abdul Wahid Khudayar\",\n",
        "\"Addy Rose\",\n",
        "\"Anuoluwapo Oluseyi\",\n",
        "\"Aravindh Kuppusamy Haridoss\",\n",
        "\"Carlo Halnin\",\n",
        "\"Juned Chhiboo\",\n",
        "\"Cici Ann Joji\",\n",
        "\"DHRUVKUMAR PATEL\",\n",
        "\"Erkan Kumesogut\",\n",
        "\"Exaltacao Rodrigues\",\n",
        "\"fatma tuncalan\",\n",
        "\"harpreet kaur\",\n",
        "\"Harun Omar-Godane\",\n",
        "\"Hossain Ghahraloud\",\n",
        "\"Jesso Thomas\",\n",
        "\"Kamiar Mehmannavazan\",\n",
        "\"Karthik Sai\",\n",
        "\"Kwabena Gyasi-Boateng\",\n",
        "\"L Reetika\",\n",
        "\"mariya amtullah\",\n",
        "\"Marwa Musa\",\n",
        "\"Meelad Armani\",\n",
        "\"Miguel Diaz\",\n",
        "\"Mohammad Dabbour\",\n",
        "\"Pouria Raziei\",\n",
        "\"Reena Thakur\",\n",
        "\"Robin Francis Thomas\",\n",
        "\"Rohan Thomas\",\n",
        "\"Ronit Soni\",\n",
        "\"Sameeha Bala\",\n",
        "\"Supriya Kanda\",\n",
        "\"Weslie Chung\",\n",
        "\"Ying Fei Li\",\n",
        "\"Poojan Modi\",\n",
        "\"Alexander Hailu\",\n",
        "\"Ekaterina Shalygina\",\n",
        "\"Nevin Tomy\",\n",
        "\"Jason Huang\",\n",
        "\"Anindita\",\n",
        "\"Vrunda Patel\",\n",
        "\"Sravan Pingali\")\n",
        "Tuple1"
      ]
    },
    {
      "cell_type": "code",
      "execution_count": null,
      "id": "7e85c95e",
      "metadata": {
        "id": "7e85c95e",
        "outputId": "2fe2c7e2-6ace-4387-b3d0-ab8834dae110"
      },
      "outputs": [
        {
          "data": {
            "text/plain": [
              "['Abdul Wahid Khudayar',\n",
              " 'Addy Rose',\n",
              " 'Anuoluwapo Oluseyi',\n",
              " 'Aravindh Kuppusamy Haridoss',\n",
              " 'Carlo Halnin',\n",
              " 'Juned Chhiboo',\n",
              " 'Cici Ann Joji',\n",
              " 'DHRUVKUMAR PATEL',\n",
              " 'Erkan Kumesogut',\n",
              " 'Exaltacao Rodrigues',\n",
              " 'fatma tuncalan',\n",
              " 'harpreet kaur',\n",
              " 'Harun Omar-Godane',\n",
              " 'Hossain Ghahraloud',\n",
              " 'Jesso Thomas',\n",
              " 'Kamiar Mehmannavazan',\n",
              " 'Karthik Sai',\n",
              " 'Kwabena Gyasi-Boateng',\n",
              " 'L Reetika',\n",
              " 'mariya amtullah',\n",
              " 'Marwa Musa',\n",
              " 'Meelad Armani',\n",
              " 'Miguel Diaz',\n",
              " 'Mohammad Dabbour',\n",
              " 'Pouria Raziei',\n",
              " 'Reena Thakur',\n",
              " 'Robin Francis Thomas',\n",
              " 'Rohan Thomas',\n",
              " 'Ronit Soni',\n",
              " 'Sameeha Bala',\n",
              " 'Supriya Kanda',\n",
              " 'Weslie Chung',\n",
              " 'Ying Fei Li',\n",
              " 'Poojan Modi',\n",
              " 'Alexander Hailu',\n",
              " 'Ekaterina Shalygina',\n",
              " 'Nevin Tomy',\n",
              " 'Jason Huang',\n",
              " 'Anindita',\n",
              " 'Vrunda Patel',\n",
              " 'Sravan Pingali']"
            ]
          },
          "execution_count": 2,
          "metadata": {},
          "output_type": "execute_result"
        }
      ],
      "source": [
        "#Q2 Convert the tuple into a list called pps_L\n",
        "pps_L = list(Tuple1)\n",
        "pps_L"
      ]
    },
    {
      "cell_type": "code",
      "execution_count": null,
      "id": "e519d80f",
      "metadata": {
        "id": "e519d80f",
        "outputId": "3cd2f2a8-dc1f-47c0-93c3-34d106ed1b1a"
      },
      "outputs": [
        {
          "data": {
            "text/plain": [
              "41"
            ]
          },
          "execution_count": 3,
          "metadata": {},
          "output_type": "execute_result"
        }
      ],
      "source": [
        "#Q3 What is the length of your list\n",
        "len(pps_L)"
      ]
    },
    {
      "cell_type": "code",
      "execution_count": null,
      "id": "b2d4bc93",
      "metadata": {
        "id": "b2d4bc93",
        "outputId": "fa55b146-dc71-4d6c-8a7f-3ebd93c1063f"
      },
      "outputs": [
        {
          "name": "stdout",
          "output_type": "stream",
          "text": [
            "Aravindh Kuppusamy Haridoss\n",
            "Juned Chhiboo\n",
            "Jesso Thomas\n",
            "Supriya Kanda\n",
            "Anindita\n"
          ]
        }
      ],
      "source": [
        "#Q4 Find the values stored in indexes [3],[5],[14],[30],[38]\n",
        "print(pps_L[3])\n",
        "print(pps_L[5])\n",
        "print(pps_L[14])\n",
        "print(pps_L[30])\n",
        "print(pps_L[38])"
      ]
    },
    {
      "cell_type": "code",
      "execution_count": null,
      "id": "89fbb16a",
      "metadata": {
        "id": "89fbb16a",
        "outputId": "42d314dc-c3e1-49fd-8453-f2cedf55b62b"
      },
      "outputs": [
        {
          "data": {
            "text/plain": [
              "False"
            ]
          },
          "execution_count": 5,
          "metadata": {},
          "output_type": "execute_result"
        }
      ],
      "source": [
        "#Q5 Check if \"Sarah\" is in the list\n",
        "\"Sarah\" in pps_L"
      ]
    },
    {
      "cell_type": "code",
      "execution_count": null,
      "id": "e342d64d",
      "metadata": {
        "id": "e342d64d",
        "outputId": "162261ee-ea42-43b3-9cf5-b8cb399e3e02"
      },
      "outputs": [
        {
          "data": {
            "text/plain": [
              "['Abdul Wahid Khudayar',\n",
              " 'Addy Rose',\n",
              " 'Anuoluwapo Oluseyi',\n",
              " 'Aravindh Kuppusamy Haridoss',\n",
              " 'Carlo Halnin',\n",
              " 'Juned Chhiboo',\n",
              " 'Cici Ann Joji',\n",
              " 'DHRUVKUMAR PATEL',\n",
              " 'Erkan Kumesogut',\n",
              " 'Exaltacao Rodrigues',\n",
              " 'fatma tuncalan',\n",
              " 'harpreet kaur',\n",
              " 'Harun Omar-Godane',\n",
              " 'Hossain Ghahraloud',\n",
              " 'Jesso Thomas',\n",
              " 'Kamiar Mehmannavazan',\n",
              " 'Karthik Sai',\n",
              " 'Kwabena Gyasi-Boateng',\n",
              " 'L Reetika',\n",
              " 'mariya amtullah',\n",
              " 'Marwa Musa',\n",
              " 'Meelad Armani',\n",
              " 'Miguel Diaz',\n",
              " 'Mohammad Dabbour',\n",
              " 'Pouria Raziei',\n",
              " 'Reena Thakur',\n",
              " 'Robin Francis Thomas',\n",
              " 'Rohan Thomas',\n",
              " 'Ronit Soni',\n",
              " 'Sameeha Bala',\n",
              " 'Supriya Kanda',\n",
              " 'Weslie Chung',\n",
              " 'Ying Fei Li',\n",
              " 'Poojan Modi',\n",
              " 'Alexander Hailu',\n",
              " 'Ekaterina Shalygina',\n",
              " 'Nevin Tomy',\n",
              " 'Jason Huang',\n",
              " 'Anindita',\n",
              " 'Vrunda Patel',\n",
              " 'Sravan Pingali',\n",
              " 'Sarah']"
            ]
          },
          "execution_count": 6,
          "metadata": {},
          "output_type": "execute_result"
        }
      ],
      "source": [
        "#Q6 Add \"Sarah\" to your list\n",
        "pps_L.append(\"Sarah\")\n",
        "pps_L"
      ]
    },
    {
      "cell_type": "code",
      "execution_count": null,
      "id": "7a114b00",
      "metadata": {
        "id": "7a114b00",
        "outputId": "1887eab5-90c4-4b9a-a21b-596d6221ba97"
      },
      "outputs": [
        {
          "data": {
            "text/plain": [
              "False"
            ]
          },
          "execution_count": 7,
          "metadata": {},
          "output_type": "execute_result"
        }
      ],
      "source": [
        "#Q7 Check if \"Bashir\" is in the list\n",
        "\"Bashir\" in pps_L"
      ]
    },
    {
      "cell_type": "code",
      "execution_count": null,
      "id": "83499a19",
      "metadata": {
        "id": "83499a19",
        "outputId": "e0c5a888-4a0c-46cb-ae8d-e085f37fee51"
      },
      "outputs": [
        {
          "data": {
            "text/plain": [
              "['Abdul Wahid Khudayar',\n",
              " 'Addy Rose',\n",
              " 'Anuoluwapo Oluseyi',\n",
              " 'Aravindh Kuppusamy Haridoss',\n",
              " 'Carlo Halnin',\n",
              " 'Juned Chhiboo',\n",
              " 'Cici Ann Joji',\n",
              " 'DHRUVKUMAR PATEL',\n",
              " 'Erkan Kumesogut',\n",
              " 'Exaltacao Rodrigues',\n",
              " 'fatma tuncalan',\n",
              " 'harpreet kaur',\n",
              " 'Harun Omar-Godane',\n",
              " 'Hossain Ghahraloud',\n",
              " 'Jesso Thomas',\n",
              " 'Kamiar Mehmannavazan',\n",
              " 'Karthik Sai',\n",
              " 'Kwabena Gyasi-Boateng',\n",
              " 'L Reetika',\n",
              " 'mariya amtullah',\n",
              " 'Marwa Musa',\n",
              " 'Meelad Armani',\n",
              " 'Miguel Diaz',\n",
              " 'Mohammad Dabbour',\n",
              " 'Pouria Raziei',\n",
              " 'Reena Thakur',\n",
              " 'Robin Francis Thomas',\n",
              " 'Rohan Thomas',\n",
              " 'Ronit Soni',\n",
              " 'Sameeha Bala',\n",
              " 'Supriya Kanda',\n",
              " 'Weslie Chung',\n",
              " 'Ying Fei Li',\n",
              " 'Poojan Modi',\n",
              " 'Alexander Hailu',\n",
              " 'Ekaterina Shalygina',\n",
              " 'Nevin Tomy',\n",
              " 'Jason Huang',\n",
              " 'Anindita',\n",
              " 'Vrunda Patel',\n",
              " 'Sravan Pingali',\n",
              " 'Sarah',\n",
              " 'Bashir']"
            ]
          },
          "execution_count": 8,
          "metadata": {},
          "output_type": "execute_result"
        }
      ],
      "source": [
        "#Q9 Add \"Bashir\" to your list\n",
        "pps_L.append(\"Bashir\")\n",
        "pps_L"
      ]
    },
    {
      "cell_type": "code",
      "execution_count": null,
      "id": "39b3e8ce",
      "metadata": {
        "id": "39b3e8ce",
        "outputId": "329e4581-d7db-42ec-906e-c4916ce38153"
      },
      "outputs": [
        {
          "data": {
            "text/plain": [
              "41"
            ]
          },
          "execution_count": 9,
          "metadata": {},
          "output_type": "execute_result"
        }
      ],
      "source": [
        "#Q10 Find the index of the element \"Sarah\" in the list\n",
        "pps_L.index(\"Sarah\")"
      ]
    },
    {
      "cell_type": "code",
      "execution_count": null,
      "id": "4bc677d7",
      "metadata": {
        "id": "4bc677d7",
        "outputId": "f6e59a7a-a3ec-48ea-f72a-a6121d1ead84"
      },
      "outputs": [
        {
          "name": "stdout",
          "output_type": "stream",
          "text": [
            "True\n"
          ]
        },
        {
          "data": {
            "text/plain": [
              "41"
            ]
          },
          "execution_count": 10,
          "metadata": {},
          "output_type": "execute_result"
        }
      ],
      "source": [
        "#Q11 Change the value of the index in Q10 from \"Sarah\" to \"Instructor\"\n",
        "pps_L[41]=\"Instructor\"\n",
        "print(\"Instructor\" in pps_L)\n",
        "pps_L.index(\"Instructor\")"
      ]
    },
    {
      "cell_type": "code",
      "execution_count": null,
      "id": "9f3d823d",
      "metadata": {
        "id": "9f3d823d",
        "outputId": "3a4b7ef4-f969-4282-b5ae-7ca003cd000e"
      },
      "outputs": [
        {
          "data": {
            "text/plain": [
              "42"
            ]
          },
          "execution_count": 11,
          "metadata": {},
          "output_type": "execute_result"
        }
      ],
      "source": [
        "#Q12 Find the index of the element \"Bashir\" in the list\n",
        "pps_L.index(\"Bashir\")"
      ]
    },
    {
      "cell_type": "code",
      "execution_count": null,
      "id": "0d897613",
      "metadata": {
        "id": "0d897613",
        "outputId": "44070a9b-c9af-44bb-e8b7-c50ba258f3bc"
      },
      "outputs": [
        {
          "name": "stdout",
          "output_type": "stream",
          "text": [
            "True\n"
          ]
        },
        {
          "data": {
            "text/plain": [
              "42"
            ]
          },
          "execution_count": 12,
          "metadata": {},
          "output_type": "execute_result"
        }
      ],
      "source": [
        "#Q13 Change the value of the index in Q12 from \"Bashir\" to \"Peer-Mentor\"\n",
        "pps_L[42]=\"Peer-Mentor\"\n",
        "print(\"Peer-Mentor\" in pps_L)\n",
        "pps_L.index(\"Peer-Mentor\")"
      ]
    }
  ],
  "metadata": {
    "kernelspec": {
      "display_name": "Python 3",
      "language": "python",
      "name": "python3"
    },
    "language_info": {
      "codemirror_mode": {
        "name": "ipython",
        "version": 3
      },
      "file_extension": ".py",
      "mimetype": "text/x-python",
      "name": "python",
      "nbconvert_exporter": "python",
      "pygments_lexer": "ipython3",
      "version": "3.8.8"
    },
    "colab": {
      "provenance": [],
      "include_colab_link": true
    }
  },
  "nbformat": 4,
  "nbformat_minor": 5
}