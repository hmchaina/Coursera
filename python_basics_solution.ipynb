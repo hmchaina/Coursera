{
  "cells": [
    {
      "cell_type": "markdown",
      "metadata": {
        "id": "view-in-github",
        "colab_type": "text"
      },
      "source": [
        "<a href=\"https://colab.research.google.com/github/hmchaina/Coursera/blob/main/python_basics_solution.ipynb\" target=\"_parent\"><img src=\"https://colab.research.google.com/assets/colab-badge.svg\" alt=\"Open In Colab\"/></a>"
      ]
    },
    {
      "cell_type": "code",
      "execution_count": null,
      "id": "1adc9008",
      "metadata": {
        "id": "1adc9008",
        "outputId": "e2452adb-26db-4ddc-fc65-b2491e187d29"
      },
      "outputs": [
        {
          "name": "stdout",
          "output_type": "stream",
          "text": [
            "3.8.8 (default, Apr 13 2021, 15:08:03) [MSC v.1916 64 bit (AMD64)]\n"
          ]
        }
      ],
      "source": [
        "#Write a Python code to return your Python version\n",
        "import sys\n",
        "print(sys.version)\n"
      ]
    },
    {
      "cell_type": "code",
      "execution_count": null,
      "id": "3113c391",
      "metadata": {
        "id": "3113c391",
        "outputId": "91e35ffd-c9eb-4820-9e86-35ee3be0766a"
      },
      "outputs": [
        {
          "data": {
            "text/plain": [
              "'customer_id = 513'"
            ]
          },
          "execution_count": 2,
          "metadata": {},
          "output_type": "execute_result"
        }
      ],
      "source": [
        "##Write a Python code to declare variable id=\"513\".\n",
        "#Print the following statement \"customer id =513\". [Don't use print(\"customer id\")]\n",
        "variable_id = \"customer_id = 513\"\n",
        "variable_id"
      ]
    },
    {
      "cell_type": "code",
      "execution_count": null,
      "id": "b5d2e8a7",
      "metadata": {
        "id": "b5d2e8a7",
        "outputId": "70d164ae-9140-4432-9bd9-4f633d33b844"
      },
      "outputs": [
        {
          "ename": "TypeError",
          "evalue": "unsupported operand type(s) for +: 'builtin_function_or_method' and 'int'",
          "output_type": "error",
          "traceback": [
            "\u001b[1;31m---------------------------------------------------------------------------\u001b[0m",
            "\u001b[1;31mTypeError\u001b[0m                                 Traceback (most recent call last)",
            "\u001b[1;32m<ipython-input-3-7e5a807de45c>\u001b[0m in \u001b[0;36m<module>\u001b[1;34m\u001b[0m\n\u001b[0;32m      1\u001b[0m \u001b[1;31m#Run the following statement, why there is an error\u001b[0m\u001b[1;33m\u001b[0m\u001b[1;33m\u001b[0m\u001b[1;33m\u001b[0m\u001b[0m\n\u001b[1;32m----> 2\u001b[1;33m \u001b[0mid\u001b[0m \u001b[1;33m=\u001b[0m \u001b[0mid\u001b[0m\u001b[1;33m+\u001b[0m\u001b[1;36m1\u001b[0m\u001b[1;33m\u001b[0m\u001b[1;33m\u001b[0m\u001b[0m\n\u001b[0m",
            "\u001b[1;31mTypeError\u001b[0m: unsupported operand type(s) for +: 'builtin_function_or_method' and 'int'"
          ]
        }
      ],
      "source": [
        "#Run the following statement, why there is an error\n",
        "id = id+1"
      ]
    },
    {
      "cell_type": "code",
      "execution_count": null,
      "id": "22a8882f",
      "metadata": {
        "id": "22a8882f",
        "outputId": "9f57e532-71fa-4fcd-ea48-7de86fbbf44c"
      },
      "outputs": [
        {
          "data": {
            "text/plain": [
              "124"
            ]
          },
          "execution_count": 4,
          "metadata": {},
          "output_type": "execute_result"
        }
      ],
      "source": [
        "#Convert the variable id into an integer, increment it by 1.\n",
        "#Assign the result to variable new_id.\n",
        "#Print the new_id\n",
        "var_id = int('123')\n",
        "var_id_new = var_id+1\n",
        "var_id_new\n"
      ]
    },
    {
      "cell_type": "code",
      "execution_count": null,
      "id": "a85af7d0",
      "metadata": {
        "id": "a85af7d0",
        "outputId": "761d6ee3-a8e8-47ec-bd65-42dd2d56a03c"
      },
      "outputs": [
        {
          "name": "stdout",
          "output_type": "stream",
          "text": [
            "Twinkle, twinkle, little star,\n",
            "How I wonder what you are!\n",
            "Up above the world so high,\n",
            "Like a diamond in the sky.\n"
          ]
        }
      ],
      "source": [
        "#Write a Python code to print the following string in a specific format (see the\n",
        "# Twinkle, twinkle, little star,\n",
        "# How I wonder what you are!\n",
        "# Up above the world so high,\n",
        "# Like a diamond in the sky.\n",
        "\n",
        "print('Twinkle, twinkle, little star,\\nHow I wonder what you are!\\nUp above the world so high,\\nLike a diamond in the sky.')\n"
      ]
    },
    {
      "cell_type": "code",
      "execution_count": null,
      "id": "a94fe25e",
      "metadata": {
        "id": "a94fe25e",
        "outputId": "1a0f7ab8-8e2c-4db6-ebd6-30914c43d94b"
      },
      "outputs": [
        {
          "data": {
            "text/plain": [
              "'P'"
            ]
          },
          "execution_count": 6,
          "metadata": {},
          "output_type": "execute_result"
        }
      ],
      "source": [
        "#Givin the following string variable, # Print the first element in the string\n",
        "course=\"Python for Data Science\"\n",
        "course[:1]"
      ]
    },
    {
      "cell_type": "code",
      "execution_count": null,
      "id": "cff90c3a",
      "metadata": {
        "id": "cff90c3a",
        "outputId": "c1854534-a76f-402b-ab27-5a65ebb73b05"
      },
      "outputs": [
        {
          "data": {
            "text/plain": [
              "'t'"
            ]
          },
          "execution_count": 7,
          "metadata": {},
          "output_type": "execute_result"
        }
      ],
      "source": [
        "# Print the element on the 13th index in the string\n",
        "course[13:14]"
      ]
    },
    {
      "cell_type": "code",
      "execution_count": null,
      "id": "0ab0d3c6",
      "metadata": {
        "id": "0ab0d3c6",
        "outputId": "e69cb630-9c7b-4dad-8937-bdec4850e0ae"
      },
      "outputs": [
        {
          "data": {
            "text/plain": [
              "23"
            ]
          },
          "execution_count": 8,
          "metadata": {},
          "output_type": "execute_result"
        }
      ],
      "source": [
        "# Find the length of string\n",
        "len(course)"
      ]
    },
    {
      "cell_type": "code",
      "execution_count": null,
      "id": "e41f8839",
      "metadata": {
        "id": "e41f8839",
        "outputId": "74c176c9-1294-4246-aa6e-a148de12d13d"
      },
      "outputs": [
        {
          "data": {
            "text/plain": [
              "'e'"
            ]
          },
          "execution_count": 9,
          "metadata": {},
          "output_type": "execute_result"
        }
      ],
      "source": [
        "#Print the last element in the string [use negative index]\n",
        "course[-1]"
      ]
    },
    {
      "cell_type": "code",
      "execution_count": null,
      "id": "f3902644",
      "metadata": {
        "id": "f3902644",
        "outputId": "a625a284-e1c7-4f80-b9e2-4c80a3ad2eff"
      },
      "outputs": [
        {
          "data": {
            "text/plain": [
              "'Dat'"
            ]
          },
          "execution_count": 10,
          "metadata": {},
          "output_type": "execute_result"
        }
      ],
      "source": [
        "#Take the slice on variable course with only index 11 to index 14\n",
        "course[11:14]"
      ]
    },
    {
      "cell_type": "code",
      "execution_count": null,
      "id": "dcf1859f",
      "metadata": {
        "id": "dcf1859f",
        "outputId": "0e1a5db1-149c-487a-b4cf-a566972c124b"
      },
      "outputs": [
        {
          "data": {
            "text/plain": [
              "'Ph ra i'"
            ]
          },
          "execution_count": 11,
          "metadata": {},
          "output_type": "execute_result"
        }
      ],
      "source": [
        "# Get every third element in the range from index 0 to index 20\n",
        "course[0:20:3]"
      ]
    },
    {
      "cell_type": "code",
      "execution_count": null,
      "id": "342fab51",
      "metadata": {
        "id": "342fab51",
        "outputId": "2adb1b5a-c2a1-4364-d5d3-10578418db8d"
      },
      "outputs": [
        {
          "data": {
            "text/plain": [
              "'Python AI & Development'"
            ]
          },
          "execution_count": 12,
          "metadata": {},
          "output_type": "execute_result"
        }
      ],
      "source": [
        "# Concatenate course string with \", AI & Development\"\n",
        "A = \"Python \"\n",
        "B = \"AI & Development\"\n",
        "C = A+B\n",
        "C"
      ]
    },
    {
      "cell_type": "code",
      "execution_count": null,
      "id": "075697bb",
      "metadata": {
        "id": "075697bb",
        "outputId": "e6d29ae7-7087-4030-c5c5-63dd140a5b61"
      },
      "outputs": [
        {
          "name": "stdout",
          "output_type": "stream",
          "text": [
            "Python_for_Data_Science\n"
          ]
        }
      ],
      "source": [
        "# Replace all the spaces with (_). New string should looks like\"Python_for_Data_Science\n",
        "\n",
        "course=\"Python for Data Science\"\n",
        "print(course.replace(\" \",\"_\"))"
      ]
    },
    {
      "cell_type": "code",
      "execution_count": null,
      "id": "488d1538",
      "metadata": {
        "id": "488d1538",
        "outputId": "a7111639-ae19-4a43-9234-04ce406033d0"
      },
      "outputs": [
        {
          "name": "stdout",
          "output_type": "stream",
          "text": [
            "PYTHON FOR DATA SCIENCE\n"
          ]
        }
      ],
      "source": [
        "# Convert all the characters in string to upper case\n",
        "course=\"Python for Data Science\"\n",
        "print(course.upper())"
      ]
    }
  ],
  "metadata": {
    "kernelspec": {
      "display_name": "Python 3",
      "language": "python",
      "name": "python3"
    },
    "language_info": {
      "codemirror_mode": {
        "name": "ipython",
        "version": 3
      },
      "file_extension": ".py",
      "mimetype": "text/x-python",
      "name": "python",
      "nbconvert_exporter": "python",
      "pygments_lexer": "ipython3",
      "version": "3.8.8"
    },
    "colab": {
      "provenance": [],
      "include_colab_link": true
    }
  },
  "nbformat": 4,
  "nbformat_minor": 5
}